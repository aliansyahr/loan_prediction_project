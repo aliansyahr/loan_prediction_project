{
 "cells": [
  {
   "cell_type": "markdown",
   "metadata": {},
   "source": [
    "# Inference Model"
   ]
  },
  {
   "cell_type": "markdown",
   "metadata": {},
   "source": [
    "# 1. Import Libraries"
   ]
  },
  {
   "cell_type": "code",
   "execution_count": 1,
   "metadata": {},
   "outputs": [],
   "source": [
    "import pandas as pd\n",
    "import pickle"
   ]
  },
  {
   "cell_type": "markdown",
   "metadata": {},
   "source": [
    "# 2. Load model dari file"
   ]
  },
  {
   "cell_type": "code",
   "execution_count": 2,
   "metadata": {},
   "outputs": [],
   "source": [
    "# load model dari file menggunakan pickle\n",
    "with open('best_model.pkl', 'rb') as model_file:\n",
    "    loaded_model = pickle.load(model_file)"
   ]
  },
  {
   "cell_type": "markdown",
   "metadata": {},
   "source": [
    "# 3. Masukan data baru "
   ]
  },
  {
   "cell_type": "code",
   "execution_count": 3,
   "metadata": {},
   "outputs": [],
   "source": [
    "# masukan data baru untuk inference\n",
    "data = {\n",
    "    'no_of_dependents': [2],\n",
    "    'education': ['Graduate'],\n",
    "    'self_employed': ['No'],\n",
    "    'income_annum': [50000],\n",
    "    'loan_amount': [200000],\n",
    "    'loan_term': [15],\n",
    "    'cibil_score': [700],\n",
    "    'residential_assets_value': [300000],\n",
    "    'commercial_assets_value': [150000],\n",
    "    'luxury_assets_value': [10000],\n",
    "    'bank_asset_value': [10000]\n",
    "}\n",
    "\n",
    "# Convert to DataFrame\n",
    "input_df = pd.DataFrame(data)"
   ]
  },
  {
   "cell_type": "markdown",
   "metadata": {},
   "source": [
    "# 4. Melakukan Prediksi"
   ]
  },
  {
   "cell_type": "code",
   "execution_count": 4,
   "metadata": {},
   "outputs": [
    {
     "name": "stdout",
     "output_type": "stream",
     "text": [
      "Predicted Loan Status: ['Approved']\n",
      "Predicted Probabilities: [[0.83116667 0.16883333]]\n"
     ]
    }
   ],
   "source": [
    "# melakukan prediksi\n",
    "predicted_status = loaded_model.predict(input_df)\n",
    "predicted_probabilities = loaded_model.predict_proba(input_df)\n",
    "\n",
    "# print hasil nya\n",
    "print(\"Predicted Loan Status:\", predicted_status)\n",
    "print(\"Predicted Probabilities:\", predicted_probabilities)"
   ]
  }
 ],
 "metadata": {
  "kernelspec": {
   "display_name": "base",
   "language": "python",
   "name": "python3"
  },
  "language_info": {
   "codemirror_mode": {
    "name": "ipython",
    "version": 3
   },
   "file_extension": ".py",
   "mimetype": "text/x-python",
   "name": "python",
   "nbconvert_exporter": "python",
   "pygments_lexer": "ipython3",
   "version": "3.12.3"
  }
 },
 "nbformat": 4,
 "nbformat_minor": 2
}
